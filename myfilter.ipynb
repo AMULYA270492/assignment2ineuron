{
 "cells": [
  {
   "cell_type": "code",
   "execution_count": 8,
   "metadata": {},
   "outputs": [
    {
     "name": "stdout",
     "output_type": "stream",
     "text": [
      "enter the operation to be perfomed i.e even odd as 1 or prime as 2or positivenegative as 33\n",
      "enter the values1,-6,-5,58,55\n",
      "['1', '-6', '-5', '58', '55']\n",
      "['true', 'false', 'false', 'true', 'true']\n"
     ]
    }
   ],
   "source": [
    "def myfilter(q1,x):\n",
    "    w=[]\n",
    "    q=list(q1)\n",
    "    if x==1:\n",
    "        for i in q:\n",
    "            if i%2==0:\n",
    "                w.append(\"true\")\n",
    "            else:\n",
    "                w.append(\"false\")\n",
    "       \n",
    "            \n",
    "    \n",
    "    elif x==2:\n",
    "        \n",
    "        for i in q:\n",
    "            g=0\n",
    "            for j in range(2,i):\n",
    "                if i%j==0:\n",
    "                    g=1\n",
    "            if g==1:\n",
    "                w.append(\"not prime\")\n",
    "            else:\n",
    "                w.append(\"prime\")\n",
    "    else:\n",
    "        for i in q:\n",
    "            if i>0 :\n",
    "                w.append(\"true\")\n",
    "            else:\n",
    "                w.append(\"false\")\n",
    "            \n",
    "    print(w)\n",
    "    \n",
    "z=int(input(\"enter the operation to be perfomed i.e even odd as 1 or prime as 2or positivenegative as 3\"))  \n",
    "k=input(\"enter the values\")\n",
    "p=[]\n",
    "g=[]\n",
    "p=k.split(',')\n",
    "print(p)\n",
    "for i in p:\n",
    "    g.append(int(i))\n",
    "myfilter(g,z)\n"
   ]
  },
  {
   "cell_type": "code",
   "execution_count": 9,
   "metadata": {},
   "outputs": [
    {
     "name": "stdout",
     "output_type": "stream",
     "text": [
      "['true', 'false', 'false', 'true', 'true']\n"
     ]
    }
   ],
   "source": [
    "myfilter(g,z)"
   ]
  },
  {
   "cell_type": "code",
   "execution_count": null,
   "metadata": {},
   "outputs": [],
   "source": []
  }
 ],
 "metadata": {
  "kernelspec": {
   "display_name": "Python 3",
   "language": "python",
   "name": "python3"
  },
  "language_info": {
   "codemirror_mode": {
    "name": "ipython",
    "version": 3
   },
   "file_extension": ".py",
   "mimetype": "text/x-python",
   "name": "python",
   "nbconvert_exporter": "python",
   "pygments_lexer": "ipython3",
   "version": "3.7.6"
  }
 },
 "nbformat": 4,
 "nbformat_minor": 4
}
