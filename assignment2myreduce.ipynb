{
 "cells": [
  {
   "cell_type": "code",
   "execution_count": 12,
   "metadata": {},
   "outputs": [
    {
     "name": "stdout",
     "output_type": "stream",
     "text": [
      "enter the operation to be perfomed i.e additon as 1,substraction as 2,multiplication as 3,divisionas 4,average as 5,max as 66\n",
      "enter the values1,25,2,55,33,33,33333\n",
      "['1', '25', '2', '55', '33', '33', '33333']\n",
      "33333\n"
     ]
    }
   ],
   "source": [
    "def myreducefunction(q,x):\n",
    "    w=[]\n",
    "    p=q[0]\n",
    "    if x==1:\n",
    "        \n",
    "        for i in range(1,len(q)):\n",
    "            p=p+q[i]\n",
    "        \n",
    "    elif x==2:\n",
    "       \n",
    "        for i in range(1,len(q)):\n",
    "            p=p-q[i]\n",
    "        \n",
    "    elif x==3:\n",
    "      \n",
    "        for i in range(1,len(q)):\n",
    "            p=p*q[i]\n",
    "    elif x==4:\n",
    "        \n",
    "        for i in range(1,len(q)):\n",
    "            p=p/q[i]\n",
    "    elif x==5:\n",
    "        \n",
    "        for i in range(1,len(q)):\n",
    "            p=(p+q[i])/2\n",
    "        \n",
    "    else:\n",
    "        \n",
    "        for i in range(1,len(q)):\n",
    "            if p<q[i]:\n",
    "                p=q[i]\n",
    "                \n",
    "    print(p)\n",
    "    \n",
    "      \n",
    "z=int(input(\"enter the operation to be perfomed i.e additon as 1,substraction as 2,multiplication as 3,divisionas 4,average as 5,max as 6\"))  \n",
    "k=input(\"enter the values\")\n",
    "p=[]\n",
    "g=[]\n",
    "p=k.split(',')\n",
    "print(p)\n",
    "for i in p:\n",
    "    g.append(int(i))\n",
    "myreducefunction(g,z)\n",
    "\n"
   ]
  },
  {
   "cell_type": "code",
   "execution_count": null,
   "metadata": {},
   "outputs": [],
   "source": []
  }
 ],
 "metadata": {
  "kernelspec": {
   "display_name": "Python 3",
   "language": "python",
   "name": "python3"
  },
  "language_info": {
   "codemirror_mode": {
    "name": "ipython",
    "version": 3
   },
   "file_extension": ".py",
   "mimetype": "text/x-python",
   "name": "python",
   "nbconvert_exporter": "python",
   "pygments_lexer": "ipython3",
   "version": "3.7.6"
  }
 },
 "nbformat": 4,
 "nbformat_minor": 4
}
