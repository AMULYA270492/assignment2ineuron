{
 "cells": [
  {
   "cell_type": "code",
   "execution_count": 2,
   "metadata": {},
   "outputs": [],
   "source": [
    "def longestWord(x):\n",
    "    \n",
    "    lenght=0\n",
    "    for i in x:\n",
    "        if len(i)>lenght:\n",
    "            lenght=len(i)\n",
    "            word=i\n",
    "    else:\n",
    "        print(word)\n",
    "        "
   ]
  },
  {
   "cell_type": "code",
   "execution_count": 4,
   "metadata": {},
   "outputs": [
    {
     "name": "stdout",
     "output_type": "stream",
     "text": [
      "enter the wordsamulya longestbridge tetaliamulya computerscienecetesting \n",
      "computerscienecetesting\n"
     ]
    }
   ],
   "source": [
    "y=input(\"enter the words\")\n",
    "p=[]\n",
    "p=y.split()\n",
    "longestWord(p)"
   ]
  },
  {
   "cell_type": "code",
   "execution_count": null,
   "metadata": {},
   "outputs": [],
   "source": []
  }
 ],
 "metadata": {
  "kernelspec": {
   "display_name": "Python 3",
   "language": "python",
   "name": "python3"
  },
  "language_info": {
   "codemirror_mode": {
    "name": "ipython",
    "version": 3
   },
   "file_extension": ".py",
   "mimetype": "text/x-python",
   "name": "python",
   "nbconvert_exporter": "python",
   "pygments_lexer": "ipython3",
   "version": "3.7.6"
  }
 },
 "nbformat": 4,
 "nbformat_minor": 4
}
